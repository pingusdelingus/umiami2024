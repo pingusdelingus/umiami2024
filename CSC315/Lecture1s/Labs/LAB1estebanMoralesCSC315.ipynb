{
 "cells": [
  {
   "cell_type": "markdown",
   "id": "7c1a869c-cd64-4736-aa23-bf9acbc1c271",
   "metadata": {},
   "source": [
    "# Labs of lecture 1  (20 points)\n",
    "Please follow the instructions exactly"
   ]
  },
  {
   "cell_type": "code",
   "execution_count": 1,
   "id": "e7881e89-90fe-4201-a351-e04698f2e549",
   "metadata": {},
   "outputs": [
    {
     "name": "stdout",
     "output_type": "stream",
     "text": [
      "1 2 3 123 abc 246\n"
     ]
    }
   ],
   "source": [
    "#example: print some numbers and strings\n",
    "a=123\n",
    "b='abc'\n",
    "c='246'\n",
    "print(1, 2, 3, a, b, c)\n",
    "del a, b, c"
   ]
  },
  {
   "cell_type": "markdown",
   "id": "dbd0b483-4b2a-431e-a11f-dfcaf3757176",
   "metadata": {},
   "source": [
    "### Lab 1.1 string   (5 points)"
   ]
  },
  {
   "cell_type": "code",
   "execution_count": 2,
   "id": "382a60c6-3fc7-4a90-95af-0e160743b800",
   "metadata": {},
   "outputs": [],
   "source": [
    "s='this is a string'"
   ]
  },
  {
   "cell_type": "code",
   "execution_count": 3,
   "id": "1cd7c1d2-aada-426f-8a36-914266d813cc",
   "metadata": {},
   "outputs": [
    {
     "name": "stdout",
     "output_type": "stream",
     "text": [
      "<class 'str'>\n"
     ]
    }
   ],
   "source": [
    "#1 point\n",
    "#check type of s\n",
    "print(type(s))"
   ]
  },
  {
   "cell_type": "code",
   "execution_count": 8,
   "id": "3b60611e-daa5-4a10-9e45-aa7ff09c717a",
   "metadata": {},
   "outputs": [
    {
     "name": "stdout",
     "output_type": "stream",
     "text": [
      "this is a string\n"
     ]
    }
   ],
   "source": [
    "#1 point\n",
    "#print the string s using the function print\n",
    "print(s)\n"
   ]
  },
  {
   "cell_type": "code",
   "execution_count": 9,
   "id": "76513892-14c8-4e6f-b1f3-7e26f55ad92a",
   "metadata": {},
   "outputs": [
    {
     "name": "stdout",
     "output_type": "stream",
     "text": [
      "16\n"
     ]
    }
   ],
   "source": [
    "#1 point\n",
    "#measure the length of the string s, which is the number of chars in the string s\n",
    "lengthOfString = len(s)\n",
    "print(lengthOfString)\n"
   ]
  },
  {
   "cell_type": "code",
   "execution_count": 10,
   "id": "f562bc6f-2517-42db-a498-325afe6ed4c8",
   "metadata": {},
   "outputs": [
    {
     "name": "stdout",
     "output_type": "stream",
     "text": [
      "t\n"
     ]
    }
   ],
   "source": [
    "#1 point\n",
    "#print the first element (element #0) of the string s\n",
    "print(s[0])"
   ]
  },
  {
   "cell_type": "code",
   "execution_count": 11,
   "id": "70ef08f0-2705-49d6-87a0-896fcf76c7c1",
   "metadata": {},
   "outputs": [
    {
     "name": "stdout",
     "output_type": "stream",
     "text": [
      "g\n"
     ]
    }
   ],
   "source": [
    "#1 point\n",
    "#print the last element of the string s\n",
    "print(s[-1])"
   ]
  },
  {
   "cell_type": "code",
   "execution_count": 13,
   "id": "83db5950-b81d-4c8e-b862-398fcc81e6c3",
   "metadata": {},
   "outputs": [
    {
     "ename": "TypeError",
     "evalue": "'str' object does not support item assignment",
     "output_type": "error",
     "traceback": [
      "\u001b[0;31m---------------------------------------------------------------------------\u001b[0m",
      "\u001b[0;31mTypeError\u001b[0m                                 Traceback (most recent call last)",
      "Cell \u001b[0;32mIn[13], line 3\u001b[0m\n\u001b[1;32m      1\u001b[0m \u001b[38;5;66;03m#can you change a char in the string, e.g., s[0] = 'a'?\u001b[39;00m\n\u001b[1;32m      2\u001b[0m \u001b[38;5;66;03m#s[0]='a' - see what happens\u001b[39;00m\n\u001b[0;32m----> 3\u001b[0m s[\u001b[38;5;241m0\u001b[39m] \u001b[38;5;241m=\u001b[39m \u001b[38;5;124m'\u001b[39m\u001b[38;5;124ma\u001b[39m\u001b[38;5;124m'\u001b[39m\n\u001b[1;32m      4\u001b[0m \u001b[38;5;28mprint\u001b[39m(s)\n",
      "\u001b[0;31mTypeError\u001b[0m: 'str' object does not support item assignment"
     ]
    }
   ],
   "source": [
    "#can you change a char in the string, e.g., s[0] = 'a'?\n",
    "#s[0]='a' - see what happens\n",
    "s[0] = 'a'\n",
    "print(s)\n",
    "#This throws an error as strings are immutable in python!"
   ]
  },
  {
   "cell_type": "markdown",
   "id": "7a1cf189-aa60-4175-b8fe-f5ef5e1a4268",
   "metadata": {},
   "source": [
    "### Lab 1.2  print (3 points)"
   ]
  },
  {
   "cell_type": "code",
   "execution_count": 16,
   "id": "8b128e22-83ac-4ba2-83be-ac51e6fb0747",
   "metadata": {},
   "outputs": [
    {
     "name": "stdout",
     "output_type": "stream",
     "text": [
      "1.1 , 2.2 , 3.3\n"
     ]
    }
   ],
   "source": [
    "# 1 point\n",
    "# print three numbers: x1, x2, and x3, separated by , in one line\n",
    "x1=1.1\n",
    "x2=2.2\n",
    "x3=3.3\n",
    "print(x1, ',', x2, ',', x3)\n"
   ]
  },
  {
   "cell_type": "code",
   "execution_count": 17,
   "id": "e678aede-c6a2-4de8-b2f6-da4a50c80eae",
   "metadata": {},
   "outputs": [
    {
     "name": "stdout",
     "output_type": "stream",
     "text": [
      "this is a string\n",
      "this is a second string on a second line\n"
     ]
    }
   ],
   "source": [
    "# 1 point\n",
    "# print two strings in two lines \n",
    "print(\"this is a string\")\n",
    "print(\"this is a second string on a second line\")\n"
   ]
  },
  {
   "cell_type": "code",
   "execution_count": 18,
   "id": "9c65792a-501c-4139-b2f2-c9588ee547dd",
   "metadata": {},
   "outputs": [
    {
     "name": "stdout",
     "output_type": "stream",
     "text": [
      "| X | O | X |\n",
      "-------------\n",
      "| O |   | X |\n",
      "-------------\n",
      "| O |   |   |\n"
     ]
    }
   ],
   "source": [
    "# 1 point\n",
    "#print a 3x3 board of a tic-tac-toe game\n",
    "#hint: use five print statements\n",
    "print(\"| X | O | X |\")\n",
    "print(\"-------------\")\n",
    "print(\"| O |   | X |\")\n",
    "print(\"-------------\")\n",
    "print(\"| O |   |   |\")\n"
   ]
  },
  {
   "cell_type": "markdown",
   "id": "079c9a65-71ae-4159-bd47-c2cb4ae35437",
   "metadata": {},
   "source": [
    "### Lab 1.3 int and float (5 points)"
   ]
  },
  {
   "cell_type": "code",
   "execution_count": 19,
   "id": "a0d7f10e-b4d3-437d-b341-14b34691e609",
   "metadata": {},
   "outputs": [
    {
     "name": "stdout",
     "output_type": "stream",
     "text": [
      "123 1234.567\n"
     ]
    }
   ],
   "source": [
    "x=123\n",
    "y=1.234567e3\n",
    "print(x, y)"
   ]
  },
  {
   "cell_type": "code",
   "execution_count": 20,
   "id": "568b3628-f1dc-414e-ae55-e1b578b4dcd6",
   "metadata": {},
   "outputs": [
    {
     "name": "stdout",
     "output_type": "stream",
     "text": [
      "<class 'int'>\n"
     ]
    }
   ],
   "source": [
    "# 1 point\n",
    "#check the type of x\n",
    "print(type(x))\n",
    "\n"
   ]
  },
  {
   "cell_type": "code",
   "execution_count": 21,
   "id": "64fdf580-235e-4bbd-8829-1867ed22788f",
   "metadata": {},
   "outputs": [
    {
     "name": "stdout",
     "output_type": "stream",
     "text": [
      "<class 'float'>\n"
     ]
    }
   ],
   "source": [
    "# 1 point\n",
    "#check the type of y\n",
    "print(type(y))\n",
    "\n"
   ]
  },
  {
   "cell_type": "code",
   "execution_count": 22,
   "id": "9ea9d4d0-3b6a-4e68-b6ec-e12ce4898433",
   "metadata": {},
   "outputs": [
    {
     "name": "stdout",
     "output_type": "stream",
     "text": [
      "123.0\n"
     ]
    }
   ],
   "source": [
    "# 1 point\n",
    "#convert x into a float\n",
    "x = float(x)\n",
    "\n",
    "print(x)\n"
   ]
  },
  {
   "cell_type": "code",
   "execution_count": 23,
   "id": "2b896478-1d31-4e9f-b463-52164ce0cdf6",
   "metadata": {},
   "outputs": [
    {
     "name": "stdout",
     "output_type": "stream",
     "text": [
      "1234\n"
     ]
    }
   ],
   "source": [
    "# 1 point\n",
    "#convert y into an int\n",
    "y = int(y)\n",
    "\n",
    "print(y)\n"
   ]
  },
  {
   "cell_type": "code",
   "execution_count": 24,
   "id": "2af0731f-da14-450a-b082-7c4ff66bfc73",
   "metadata": {},
   "outputs": [
    {
     "name": "stdout",
     "output_type": "stream",
     "text": [
      "1234\n"
     ]
    }
   ],
   "source": [
    "# 1 point\n",
    "#round y into the nearest integer\n",
    "int(y + 0.5)\n",
    "print(y)"
   ]
  },
  {
   "cell_type": "markdown",
   "id": "7f7197fb-f695-4b70-8c6c-c1d96a60f546",
   "metadata": {},
   "source": [
    "### Lab 1.4 list (3 points)"
   ]
  },
  {
   "cell_type": "code",
   "execution_count": 25,
   "id": "da03fadf-9698-4dd2-b795-248e05bd34c0",
   "metadata": {},
   "outputs": [],
   "source": [
    "L=[1, 2, 3, 4, 10, 20 , 30]"
   ]
  },
  {
   "cell_type": "code",
   "execution_count": 26,
   "id": "111f080b-9590-43f3-9993-3865c94aec72",
   "metadata": {},
   "outputs": [
    {
     "name": "stdout",
     "output_type": "stream",
     "text": [
      "<class 'list'>\n"
     ]
    }
   ],
   "source": [
    "#1 point\n",
    "#check the type of L\n",
    "Ltype = type(L)\n",
    "\n",
    "print(Ltype)\n"
   ]
  },
  {
   "cell_type": "code",
   "execution_count": 27,
   "id": "7f72a3e1-f5eb-4b8e-90cb-46c15285bb6a",
   "metadata": {},
   "outputs": [
    {
     "name": "stdout",
     "output_type": "stream",
     "text": [
      "7\n"
     ]
    }
   ],
   "source": [
    "#1 point\n",
    "#measure the length of the list, which is the number of elements in the list\n",
    "lengthOfL = len(L)\n",
    "print(lengthOfL)\n",
    "\n"
   ]
  },
  {
   "cell_type": "code",
   "execution_count": 28,
   "id": "b24066a5-3b8f-4b49-9aaa-5e8905a38ee1",
   "metadata": {},
   "outputs": [
    {
     "name": "stdout",
     "output_type": "stream",
     "text": [
      "70\n"
     ]
    }
   ],
   "source": [
    "#1 point\n",
    "#add all elements in L together using L[0]+L[1] +...\n",
    "sum = 0\n",
    "for index in range(len(L)):\n",
    "    sum += L[index]\n",
    "print(sum)\n"
   ]
  },
  {
   "cell_type": "code",
   "execution_count": 29,
   "id": "7d52a273-e73b-4d64-bda2-1beb508f83b0",
   "metadata": {},
   "outputs": [
    {
     "name": "stdout",
     "output_type": "stream",
     "text": [
      "[100, 2, 3, 4, 10, 20, 30]\n"
     ]
    }
   ],
   "source": [
    "#can you change an element in the list, e.g., L[0] = 100\n",
    "#run L[0]=100; print(L) - see what happens\n",
    "L[0] = 100\n",
    "print(L)\n"
   ]
  },
  {
   "cell_type": "markdown",
   "id": "e8c1a327-d76b-4d38-872b-5a114e411815",
   "metadata": {},
   "source": [
    "### Lab 1.5 input function (3 point)"
   ]
  },
  {
   "cell_type": "code",
   "execution_count": 30,
   "id": "de1391ff-a527-464f-9bf2-e4f7ac1f8c7f",
   "metadata": {},
   "outputs": [],
   "source": [
    "#1 point\n",
    "#ask the user to input a random number\n",
    "user_input = input(\"Enter a random number\")\n"
   ]
  },
  {
   "cell_type": "code",
   "execution_count": 31,
   "id": "b8a043ba-e878-41ec-b1ab-a422ae9cbcd4",
   "metadata": {},
   "outputs": [],
   "source": [
    "#1 point\n",
    "#check the type of the user_input\n",
    "#you will find out that the user_input is NOT a number (int or float):  it is a string\n",
    "usrType = type(user_input)\n"
   ]
  },
  {
   "cell_type": "code",
   "execution_count": 32,
   "id": "ee873911-dc5a-429c-8abd-e6edc3596e4b",
   "metadata": {},
   "outputs": [
    {
     "name": "stdout",
     "output_type": "stream",
     "text": [
      "123.0\n"
     ]
    }
   ],
   "source": [
    "#1 point\n",
    "#convert user_input to a float and print the converted user_input\n",
    "converted_user_input = float(user_input)\n",
    "\n",
    "print(converted_user_input)\n",
    "\n"
   ]
  },
  {
   "attachments": {},
   "cell_type": "markdown",
   "id": "e2a94bed-4091-46c3-b537-8f654b17bbb3",
   "metadata": {},
   "source": [
    "### Lab 1.6 Boolean (True or False)   (1 point)"
   ]
  },
  {
   "cell_type": "code",
   "execution_count": 33,
   "id": "e2c64b08-6681-455f-9e69-007738bf1c5f",
   "metadata": {},
   "outputs": [
    {
     "name": "stdout",
     "output_type": "stream",
     "text": [
      "True\n"
     ]
    }
   ],
   "source": [
    "a = 100 >= 100\n",
    "print(a)"
   ]
  },
  {
   "cell_type": "code",
   "execution_count": 34,
   "id": "be8fb6d2-9340-4ca5-8b92-fee4f5ef92df",
   "metadata": {},
   "outputs": [
    {
     "data": {
      "text/plain": [
       "bool"
      ]
     },
     "execution_count": 34,
     "metadata": {},
     "output_type": "execute_result"
    }
   ],
   "source": [
    "#check the type of a\n",
    "type(a)"
   ]
  },
  {
   "cell_type": "code",
   "execution_count": 35,
   "id": "8bf0a2b1-b936-4103-b662-bd6a6c8f47c1",
   "metadata": {},
   "outputs": [
    {
     "name": "stdout",
     "output_type": "stream",
     "text": [
      "1\n"
     ]
    }
   ],
   "source": [
    "#0.5 point\n",
    "#convert a to an int\n",
    "a = int(a)\n",
    "print(a)\n"
   ]
  },
  {
   "cell_type": "code",
   "execution_count": 36,
   "id": "8c5ab016-1269-412e-a80c-10edc4ba8b33",
   "metadata": {},
   "outputs": [
    {
     "data": {
      "text/plain": [
       "0"
      ]
     },
     "execution_count": 36,
     "metadata": {},
     "output_type": "execute_result"
    }
   ],
   "source": [
    "#0.5 point\n",
    "#what is the value of int(a) if a is False?\n",
    "0\n"
   ]
  }
 ],
 "metadata": {
  "kernelspec": {
   "display_name": "Python 3 (ipykernel)",
   "language": "python",
   "name": "python3"
  },
  "language_info": {
   "codemirror_mode": {
    "name": "ipython",
    "version": 3
   },
   "file_extension": ".py",
   "mimetype": "text/x-python",
   "name": "python",
   "nbconvert_exporter": "python",
   "pygments_lexer": "ipython3",
   "version": "3.12.4"
  }
 },
 "nbformat": 4,
 "nbformat_minor": 5
}
